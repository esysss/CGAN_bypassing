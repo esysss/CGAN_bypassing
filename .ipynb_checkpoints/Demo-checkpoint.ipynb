{
 "cells": [
  {
   "cell_type": "markdown",
   "id": "00aaf542-4321-43d3-ae07-5c000eacf306",
   "metadata": {},
   "source": [
    "## Read the data ( this is a test video)"
   ]
  },
  {
   "cell_type": "code",
   "execution_count": 4,
   "id": "d9e54fae-b82c-4bfb-93fa-4f41cbea9e9d",
   "metadata": {},
   "outputs": [],
   "source": [
    "from cv2 import VideoCapture, imshow, waitKey, destroyAllWindows\n",
    "from matplotlib import pyplot as plt"
   ]
  },
  {
   "cell_type": "code",
   "execution_count": 15,
   "id": "98b02ab2-cdeb-4fd8-9a2a-e9fddabe7b7e",
   "metadata": {},
   "outputs": [],
   "source": [
    "# Create video capture object\n",
    "capture = VideoCapture(\"Dataset/video.mp4\")\n",
    "\n",
    "# Check that a camera connection has been established\n",
    "if not capture.isOpened():\n",
    "    print(\"Error establishing connection\")\n",
    "    \n",
    "frames = []\n",
    "\n",
    "while capture.isOpened():\n",
    "\n",
    "    # Read an image frame\n",
    "    ret, frame = capture.read()\n",
    "    if not ret:\n",
    "        break\n",
    "    frames.append(frame)"
   ]
  },
  {
   "cell_type": "code",
   "execution_count": 16,
   "id": "3be36ca5-13ea-41ef-8384-01b070237730",
   "metadata": {},
   "outputs": [
    {
     "data": {
      "text/plain": [
       "155"
      ]
     },
     "execution_count": 16,
     "metadata": {},
     "output_type": "execute_result"
    }
   ],
   "source": [
    "len(frames)"
   ]
  },
  {
   "cell_type": "code",
   "execution_count": 17,
   "id": "b2b41020-2006-467a-b5a7-c4fbc32a139b",
   "metadata": {},
   "outputs": [],
   "source": [
    "#Let's capture the first 50 frames\n",
    "frames = frames[:50]"
   ]
  },
  {
   "cell_type": "code",
   "execution_count": null,
   "id": "e6ee2811-63fb-4713-acfd-b175fd4f35af",
   "metadata": {},
   "outputs": [],
   "source": []
  }
 ],
 "metadata": {
  "kernelspec": {
   "display_name": "Python 3 (ipykernel)",
   "language": "python",
   "name": "python3"
  },
  "language_info": {
   "codemirror_mode": {
    "name": "ipython",
    "version": 3
   },
   "file_extension": ".py",
   "mimetype": "text/x-python",
   "name": "python",
   "nbconvert_exporter": "python",
   "pygments_lexer": "ipython3",
   "version": "3.10.0"
  }
 },
 "nbformat": 4,
 "nbformat_minor": 5
}
