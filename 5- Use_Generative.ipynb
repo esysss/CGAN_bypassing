{
 "cells": [
  {
   "cell_type": "code",
   "execution_count": null,
   "id": "9791f73c-655e-4b3f-90d5-14adee94ebd9",
   "metadata": {},
   "outputs": [],
   "source": [
    "# Now, let us load the generator model and generate images\n",
    "# Lod the trained model and generate a few images\n",
    "from numpy import asarray\n",
    "from numpy.random import randn\n",
    "from numpy.random import randint\n",
    "from keras.models import load_model\n",
    "import numpy as np"
   ]
  },
  {
   "cell_type": "code",
   "execution_count": null,
   "id": "76f9f9da-2c37-423f-9959-2b5c5f9cfc13",
   "metadata": {},
   "outputs": [],
   "source": [
    "#Note: CIFAR10 classes are: airplane, automobile, bird, cat, deer, dog, frog, horse,\n",
    "# ship, truck\n",
    "\n",
    "# load model\n",
    "model = load_model('cifar_conditional_generator_250epochs.h5')\n",
    "\n",
    "# generate multiple images\n",
    "\n",
    "latent_points, labels = generate_latent_points(100, 100)\n",
    "# specify labels - generate 10 sets of labels each gping from 0 to 9\n",
    "labels = asarray([x for _ in range(10) for x in range(10)])\n",
    "# generate images\n",
    "X  = model.predict([latent_points, labels])\n",
    "# scale from [-1,1] to [0,1]\n",
    "X = (X + 1) / 2.0\n",
    "X = (X*255).astype(np.uint8)\n",
    "# plot the result (10 sets of images, all images in a column should be of same class in the plot)\n",
    "# Plot generated images \n",
    "def show_plot(examples, n):\n",
    "\tfor i in range(n * n):\n",
    "\t\tplt.subplot(n, n, 1 + i)\n",
    "\t\tplt.axis('off')\n",
    "\t\tplt.imshow(examples[i, :, :, :])\n",
    "\tplt.show()\n",
    "    \n",
    "show_plot(X, 10)"
   ]
  }
 ],
 "metadata": {
  "kernelspec": {
   "display_name": "Python 3 (ipykernel)",
   "language": "python",
   "name": "python3"
  },
  "language_info": {
   "codemirror_mode": {
    "name": "ipython",
    "version": 3
   },
   "file_extension": ".py",
   "mimetype": "text/x-python",
   "name": "python",
   "nbconvert_exporter": "python",
   "pygments_lexer": "ipython3",
   "version": "3.10.0"
  }
 },
 "nbformat": 4,
 "nbformat_minor": 5
}
